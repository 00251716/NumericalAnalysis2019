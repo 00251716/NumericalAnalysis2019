{
 "cells": [
  {
   "cell_type": "markdown",
   "metadata": {},
   "source": [
    "# Análisis numérico\n",
    "## Discusión 3 :  solución\n",
    "\n",
    "## Método de bisección"
   ]
  },
  {
   "cell_type": "markdown",
   "metadata": {},
   "source": [
    "$\\textbf{1.a.}$ Para transformar la ecuación en un problema de encontrar raíces, simplemente buscamos que quede igualada a $0$ :\n",
    "\n",
    "$$ f(c_{f}) = 1.74 \\ln ( Re \\sqrt{c_{f}} ) - 0.4 - \\sqrt{\\frac{1}{c_{f}}} = 0 $$\n",
    "\n",
    "Para poder aplicar el método de bisección necesitamos que la función sea continua en el intervalo dado $[0.005, 0.01]$ y que tome valores de signos opuestos en ambos extremos. La continuidad la podemos deducir del hecho que la función está compuesta por funciones que son continuas en el intervalo. Para verificar los signos opuestos, definiremos la función."
   ]
  },
  {
   "cell_type": "markdown",
   "metadata": {},
   "source": [
    "### Dependencias"
   ]
  },
  {
   "cell_type": "code",
   "execution_count": 14,
   "metadata": {},
   "outputs": [],
   "source": [
    "from math import log, ceil, sqrt"
   ]
  },
  {
   "cell_type": "markdown",
   "metadata": {},
   "source": [
    "### Parámetros"
   ]
  },
  {
   "cell_type": "code",
   "execution_count": 15,
   "metadata": {},
   "outputs": [],
   "source": [
    "# Dados en el problema\n",
    "a = 0.005\n",
    "b = 0.01\n",
    "Re = 10**4\n",
    "\n",
    "# Definimos la función anterior\n",
    "def f(x):\n",
    "    return 1.74*log(Re*sqrt(x)) - 0.4 - sqrt(1/x)"
   ]
  },
  {
   "cell_type": "markdown",
   "metadata": {},
   "source": [
    "Ahora podemos verificar que la función cumple la segunda condición:"
   ]
  },
  {
   "cell_type": "code",
   "execution_count": 16,
   "metadata": {},
   "outputs": [
    {
     "name": "stdout",
     "output_type": "stream",
     "text": [
      "-3.1256794853891865\n",
      "1.619494185428918\n"
     ]
    }
   ],
   "source": [
    "print(f(a)) # Extremo izquierdo del intervalo\n",
    "print(f(b)) # Extremo derecho del intervalo"
   ]
  },
  {
   "cell_type": "markdown",
   "metadata": {},
   "source": [
    "¿Qué habría pasado si una de estas condiciones no se hubiese cumplido? \n",
    "No podríamos garantizar la convergencia del método.\n",
    "\n",
    "Ahora vamos a aniquilar el $\\textbf{1.b.}$ y el $\\textbf{1.c.}$ de una sola vez: vamos a hacer que el algoritmo calcule el número de iteraciones, según la fórmula presentada en discusión, para alcanzar una tolerancia deseada."
   ]
  },
  {
   "cell_type": "code",
   "execution_count": 17,
   "metadata": {},
   "outputs": [],
   "source": [
    "'''\n",
    "f: función para la cual buscamos la raíz \n",
    "a: extremo izquierdo del intervalo\n",
    "b: extremo derecho del intervalo\n",
    "T: tolerancia \n",
    "'''\n",
    "\n",
    "def bisection(f, a, b, T):\n",
    "    n = ceil( log( (b - a)/T  , 2) ) #En esta línea estoy calculando el número de iteraciones necesarias\n",
    "    for i in range(0, n):\n",
    "        p = (a + b)/2\n",
    "        print(str(i) + \" \\t \" + str(a) + \" \\t \" + str(p) + \" \\t \" + str(b) + \" \\t \" + str(f(p)) )\n",
    "        if f(a)*f(p) < 0:\n",
    "            b = p\n",
    "        else:\n",
    "            a = p"
   ]
  },
  {
   "cell_type": "markdown",
   "metadata": {},
   "source": [
    "Ahora aplicamos el esquema anterior a la función $f$ que definimos arriba, pasándole una tolerancia de $10^{-6}$."
   ]
  },
  {
   "cell_type": "code",
   "execution_count": 10,
   "metadata": {},
   "outputs": [
    {
     "name": "stdout",
     "output_type": "stream",
     "text": [
      "0 \t 0.005 \t 0.0075 \t 0.01 \t -0.1777946013966467\n",
      "1 \t 0.0075 \t 0.00875 \t 0.01 \t 0.8128721973486073\n",
      "2 \t 0.0075 \t 0.008125 \t 0.00875 \t 0.344844013567263\n",
      "3 \t 0.0075 \t 0.0078125 \t 0.008125 \t 0.09101741864372848\n",
      "4 \t 0.0075 \t 0.00765625 \t 0.0078125 \t -0.041421866309180544\n",
      "5 \t 0.00765625 \t 0.007734375 \t 0.0078125 \t 0.025277253136721356\n",
      "6 \t 0.00765625 \t 0.0076953125 \t 0.007734375 \t -0.007950945331794301\n",
      "7 \t 0.0076953125 \t 0.00771484375 \t 0.007734375 \t 0.00869330567140203\n",
      "8 \t 0.0076953125 \t 0.0077050781250000006 \t 0.00771484375 \t 0.0003787415508345049\n",
      "9 \t 0.0076953125 \t 0.0077001953125 \t 0.0077050781250000006 \t -0.0037842086041166567\n",
      "10 \t 0.0077001953125 \t 0.00770263671875 \t 0.0077050781250000006 \t -0.001702260573193115\n",
      "11 \t 0.00770263671875 \t 0.007703857421875 \t 0.0077050781250000006 \t -0.0006616413187927606\n",
      "12 \t 0.007703857421875 \t 0.0077044677734375 \t 0.0077050781250000006 \t -0.0001414203416256754\n"
     ]
    }
   ],
   "source": [
    "bisection(f, a, b, 10**-6)"
   ]
  },
  {
   "cell_type": "markdown",
   "metadata": {},
   "source": [
    "Ese es un resultado bastante chueco: si queremos mejores resultados debemos poner una tolerancia más pequeña, lo que aumentará el número de iteraciones."
   ]
  },
  {
   "cell_type": "markdown",
   "metadata": {},
   "source": [
    "## Método de punto fijo"
   ]
  },
  {
   "cell_type": "markdown",
   "metadata": {},
   "source": [
    "$\\textbf{2.a.}$ Para encontrar la función $g$ deseada, debemos dejar la variable, $c_{f}$, sola en un lado de la ecuación. Luego de un poco de álgebra podemos llegar a \n",
    "\n",
    "$$ c_{f}  = \\frac{1}{(-0.4 + 1.74 \\ln (Re \\sqrt{c_{f}}) )^{2}}. $$ \n",
    "\n",
    "Vamos a definir $g(c_{f})$ igual al lado derecho\n",
    "\n",
    "$$ g(c_{f}) = \\frac{1}{(-0.4 + 1.74 \\ln (Re \\sqrt{c_{f}}) )^{2}} $$\n",
    "\n",
    "y vamos a rogar que esta función cumpla las condiciones necesarias para tener un esquema de punto fijo convergente. Primero definámosla:"
   ]
  },
  {
   "cell_type": "code",
   "execution_count": 21,
   "metadata": {},
   "outputs": [],
   "source": [
    "def g(x):\n",
    "    return 1/(1.74*log(Re*sqrt(x)) - 0.4)**2"
   ]
  },
  {
   "cell_type": "markdown",
   "metadata": {},
   "source": [
    "Verifiquemos condiciones:\n",
    "\n",
    "$\\textbf{Existencia. }$ En discusión les comenté que va a ser suficiente que verifiquen que $g(a) \\in [a, b]$ y $g(b) \\in [a, b]$. Veamos..."
   ]
  },
  {
   "cell_type": "code",
   "execution_count": 22,
   "metadata": {},
   "outputs": [
    {
     "name": "stdout",
     "output_type": "stream",
     "text": [
      "0.008239790707770357\n",
      "0.007406713638360005\n"
     ]
    }
   ],
   "source": [
    "print(g(a))\n",
    "print(g(b))"
   ]
  },
  {
   "cell_type": "markdown",
   "metadata": {},
   "source": [
    "Ambos valores están dentro del intervalo de interés, que es $[0.005, 0.01]$. Concluimos que existe un punto fijo.\n",
    "\n",
    "$\\textbf{Unicidad. }$ Al evaluar con la calculadora $\\texttt{fmax}( \\mid g'(x) \\mid, x, 0.005, 0.01)$ obtenemos que \n",
    "\n",
    "$$ \\max_{0.005 \\leq x \\leq 0.01} \\mid g'(x) \\mid = \\mid g'(0.005) \\mid = 0.260288 $$\n",
    "\n",
    "Esta es una constante positiva menor que $1$, por lo que concluimos que el punto fijo es único. Ahora programemos el esquema."
   ]
  },
  {
   "cell_type": "code",
   "execution_count": 30,
   "metadata": {},
   "outputs": [],
   "source": [
    "'''\n",
    "f: función para la cual buscamos el punto fijo \n",
    "a: extremo izquierdo del intervalo\n",
    "b: extremo derecho del intervalo\n",
    "p: aproximación inicial\n",
    "k: valor máximo del valor absoluto de la primera derivada en el intervalo\n",
    "T: tolerancia\n",
    "'''\n",
    "\n",
    "def fixedPoint(g, a, b, p, k, T):\n",
    "    #En la sig. línea estoy calculando el número de iteraciones necesarias :)\n",
    "    n = ceil( log( T/( max(b - p, p - a) ) , k))  \n",
    "    for i in range(0, n):\n",
    "        print(str(i) + \" \\t \" + str(p))\n",
    "        p = g(p)"
   ]
  },
  {
   "cell_type": "markdown",
   "metadata": {},
   "source": [
    "$\\textbf{2.b.}$ y $\\textbf{2.c.}$ Vamos a iterar usando como punto inicial el punto al medio del intervalo y una tolerancia de $10^{-6}$."
   ]
  },
  {
   "cell_type": "code",
   "execution_count": 31,
   "metadata": {},
   "outputs": [
    {
     "name": "stdout",
     "output_type": "stream",
     "text": [
      "0 \t 0.0075\n",
      "1 \t 0.007736407966250012\n",
      "2 \t 0.007699793076400809\n",
      "3 \t 0.007705373304155738\n",
      "4 \t 0.0077045207552921754\n",
      "5 \t 0.0077046509588405135\n"
     ]
    }
   ],
   "source": [
    "fixedPoint(g, a, b, (a + b)/2, 0.260288, 10**-6)"
   ]
  },
  {
   "cell_type": "markdown",
   "metadata": {},
   "source": [
    "Ahora una tolerancia de $10^{-9}$."
   ]
  },
  {
   "cell_type": "code",
   "execution_count": 32,
   "metadata": {},
   "outputs": [
    {
     "name": "stdout",
     "output_type": "stream",
     "text": [
      "0 \t 0.0075\n",
      "1 \t 0.007736407966250012\n",
      "2 \t 0.007699793076400809\n",
      "3 \t 0.007705373304155738\n",
      "4 \t 0.0077045207552921754\n",
      "5 \t 0.0077046509588405135\n",
      "6 \t 0.00770463107265981\n",
      "7 \t 0.007704634109878903\n",
      "8 \t 0.007704633646003393\n",
      "9 \t 0.007704633716851246\n",
      "10 \t 0.007704633706030629\n"
     ]
    }
   ],
   "source": [
    "fixedPoint(g, a, b, (a + b)/2, 0.260288,  10**-9)"
   ]
  },
  {
   "cell_type": "code",
   "execution_count": null,
   "metadata": {},
   "outputs": [],
   "source": []
  }
 ],
 "metadata": {
  "kernelspec": {
   "display_name": "Python 3",
   "language": "python",
   "name": "python3"
  },
  "language_info": {
   "codemirror_mode": {
    "name": "ipython",
    "version": 3
   },
   "file_extension": ".py",
   "mimetype": "text/x-python",
   "name": "python",
   "nbconvert_exporter": "python",
   "pygments_lexer": "ipython3",
   "version": "3.7.2"
  }
 },
 "nbformat": 4,
 "nbformat_minor": 2
}
