{
 "cells": [
  {
   "cell_type": "markdown",
   "metadata": {},
   "source": [
    "# Discusión 5: interpolación de Lagrange"
   ]
  },
  {
   "cell_type": "markdown",
   "metadata": {},
   "source": [
    "En las siguientes semanas hablaremos de diversas formas de aproximación polinomial, las cuales serán unificadas a través de una importante definición: la de **espacio vectorial**. Cuando pensamos en vectores, solemos imaginar segmentos de recta dirigidos en $\\mathbb{R}^{2}$ o $\\mathbb{R}^{3}$. Si bien estos espacios son útiles para ilustrar el concepto, resulta provechoso considerar otros objetos significativamente diferentes y englobarlos bajo el término vector. Un vector es, simplemente, un elemento de un espacio vectorial.\n",
    "\n",
    "**Definición 1.** Un *espacio vectorial* $\\mathcal{V}$ sobre $\\mathbb{R}$ es un conjunto $\\mathcal{V}$ con dos operaciones\n",
    "1. (Adición de vectores) +: $\\mathcal{V} \\times \\mathcal{V} \\rightarrow \\mathcal{V}$\n",
    "2. (Multiplicación por un escalar) $\\cdot : \\mathbb{R} \\times \\mathcal{V} \\rightarrow \\mathcal{V}$\n",
    "\n",
    "que satisfacen las siguientes ocho propiedades para cualesquiera $u, v, w \\in \\mathcal{V}$ y $\\alpha, \\beta \\in \\mathbb{R}$:\n",
    "\n",
    "1. (Asociatividad de la suma) $u + (v + w) = (u + v )+ w$\n",
    "2. (Conmutatividad de la suma) $u + v = v + u $\n",
    "3. (Existencia de un elemento neutro) Existe un elemento $\\mathbf{0} \\in \\mathcal{V}$ tal que $v + \\mathbf{0} = v$\n",
    "4. (Existencia de inversos) Para cada $v$ en $\\mathcal{V}$ existe un elemento $-v$ en $\\mathcal{V}$ tal que $v + (-v) = \\mathbf{0}$\n",
    "5. $\\alpha \\cdot ( \\beta \\cdot v) = \\alpha \\beta \\cdot (v)$\n",
    "6. $1 \\cdot v = v$\n",
    "7. $\\alpha \\cdot( v + w ) = \\alpha \\cdot v + \\alpha \\cdot w$\n",
    "8. $(\\alpha + \\beta) \\cdot v = \\alpha \\cdot v + \\beta \\cdot v .$\n",
    "\n",
    "Existen varios conjuntos que satisfacen esta definición y cuyos elementos se consideran, por tanto, vectores. En este momento nos concierne un tipo en especial:\n",
    "\n",
    "**Definición 2.** $\\mathcal{P}_{n}$ denota el *espacio vectorial* sobre $\\mathbb{R}$ de todos los polinomios reales de grado menor o igual a $n$. \n",
    "\n",
    "Con esta definición, podemos enunciar el problema de interpolación.\n",
    "\n",
    "---\n",
    "**Entrada:** $n + 1$ números reales **diferentes** $x_{0}, x_{1}, x_{2} \\ldots ,x_{n}$ y $ n + 1$ números reales $y_{0}, y_{1}, y_{2}, \\ldots ,y_{n} $.\n",
    "\n",
    "**Salida:** $p_{n} \\in \\mathcal{P}_{n}$ que cumpla la propiedad de interpolación:\n",
    "\n",
    "*(Propiedad de interpolación)* $p_{n}(x_{i}) = y_{i}$ para $i = 0,  1, 2, \\ldots , n$.\n",
    "\n",
    "---"
   ]
  },
  {
   "cell_type": "markdown",
   "metadata": {},
   "source": [
    "## Dependencias"
   ]
  },
  {
   "cell_type": "code",
   "execution_count": 1,
   "metadata": {},
   "outputs": [],
   "source": [
    "from sympy import * # Usaremos SymPy como herramienta para realizar manipulaciones simbólicas\n",
    "\n",
    "# Las siguientes dos librerías serán utilizadas para graficar\n",
    "import matplotlib.pyplot as plt;\n",
    "import numpy as np\n",
    "\n",
    "# Usaremos lo siguiente para mostrar los polinomios de forma bonita\n",
    "from sympy.interactive import printing;\n",
    "printing.init_printing(use_latex=True);\n",
    "from IPython.display import display, Latex"
   ]
  },
  {
   "cell_type": "markdown",
   "metadata": {},
   "source": [
    "Ahora declaramos $\\texttt{x}$ como un símbolo, que representará nuestra variable en el polinomio."
   ]
  },
  {
   "cell_type": "code",
   "execution_count": 2,
   "metadata": {},
   "outputs": [],
   "source": [
    "x = Symbol('x')"
   ]
  },
  {
   "cell_type": "markdown",
   "metadata": {},
   "source": [
    "Como primer ejercicio, construiremos el polinomio de interpolación de Lagrange cuadrático para la función $\\sin(\\pi x)$ con nodos $x_{0} = 1, x_{1} = 1.25, x_{2} = 1.6$."
   ]
  },
  {
   "cell_type": "markdown",
   "metadata": {},
   "source": [
    "## Datos de entrada"
   ]
  },
  {
   "cell_type": "code",
   "execution_count": 3,
   "metadata": {},
   "outputs": [],
   "source": [
    "def f(z):\n",
    "    return sin(pi*z)\n",
    "\n",
    "xs = [1, 1.25, 1.6]\n",
    "ys = [f(1), f(1.25), f(1.6)]"
   ]
  },
  {
   "cell_type": "markdown",
   "metadata": {},
   "source": [
    "Desarrollando la fórmula de Lagrange:\n",
    "\n",
    "$$ p_{2}(x) = \\sum_{k=0}^{2} y_{k} \\ell_{k}(x)  =  y_{0} \\ell_{0}(x)  + y_{1} \\ell_{1}(x)  +   y_{2} \\ell_{2}(x) $$\n",
    "\n",
    "donde\n",
    "\n",
    "$$\\ell_{k}(x) = \\prod_{i = 0, i \\neq k}^{2} \\frac{x - x_{i}}{x_{k} - x_{i}}. $$\n",
    "\n",
    "Las funciones $\\ell_{k}(x)$ se denominan **funciones base de Lagrange**, de forma que todo polinomio de Lagrange es una combinación lineal de estas funciones base. Así, \n",
    "\n",
    "$$ p_{2}(x) =  y_{0}  \\frac{(x - x_{1}) (x - x_{2})}{ (x_{0} - x_{1})(x_{0} - x_{2})} +  y_{1}  \\frac{(x - x_{0}) (x - x_{2})}{ (x_{1} - x_{0})(x_{1} - x_{2})} + y_{2}  \\frac{(x - x_{0}) (x - x_{1})}{ (x_{2} - x_{0})(x_{2} - x_{1})}$$\n",
    "\n",
    "Se deja de tarea al lector comprobar que este polinomio satisface la propiedad de interpolación para los tres nodos que hemos especificado arriba.\n",
    "\n",
    "A partir de la fórmula anterior, podemos notar dos problemas con la fórmula de Lagrange:\n",
    "\n",
    "1. La cantidad de operaciones que se requiere para calcular el polinomio crece cuadráticamente con el grado del polinomio: se requieren $n + 1$ sumas y cada término que se suma requiere $n$ multiplicaciones. De forma que calcular el polinomio interpolante con la fórmula de Lagrange es un problema que crece como $\\mathcal{O}(n^{2})$.\n",
    "\n",
    "2. Este procedimiento se vuelve numéricamente inestable a medida que aumenta el grado del polinomio. Esto quiere decir que los errores de redondeo se acumulan y hacen que perdamos precisión rápidamente.\n",
    "\n",
    "De esto se deduce que la fórmula de Lagrange es una importante herramienta teórica, pero resulta poco práctica de utilizar a medida que aumenta el grado del polinomio. A pesar de estas observaciones, la utilizaremos para producir el polinomio interpolante en casos *bien portados*:"
   ]
  },
  {
   "cell_type": "code",
   "execution_count": 4,
   "metadata": {},
   "outputs": [],
   "source": [
    "'''\n",
    "Esta primera función calcula la combinación lineal. Es una traducción directa de la fórmula e \n",
    "invoca la función lagrangeBasisFunction para calcular las funciones base.\n",
    "xs: arreglo con valores en x\n",
    "ys: arreglo con valores en y\n",
    "degree: grado del polinomio\n",
    "'''\n",
    "def lagrangePolynomial(xs, ys, degree):\n",
    "    polynomial = 0.0;\n",
    "    for i in range(0, degree + 1):\n",
    "        polynomial += ys[i]*lagrangeBasisFunction(xs, degree, i)\n",
    "    return polynomial    \n",
    "   \n",
    "'''\n",
    "Esta función calcula la función base correspondiente. Es, también, una traducción directa de la fórmula.\n",
    "xs: arreglo con valores en x\n",
    "degree: grado del polinomio, índice superior del producto\n",
    "k: índice de la función base \n",
    "'''    \n",
    "def lagrangeBasisFunction(xs, degree, k):\n",
    "    L = 1.0\n",
    "    for i in range(0, degree + 1):\n",
    "        if i == k:\n",
    "            continue\n",
    "        else:\n",
    "            L *= (x - xs[i])/(xs[k] - xs[i])\n",
    "    return L        "
   ]
  },
  {
   "cell_type": "markdown",
   "metadata": {},
   "source": [
    "Ahora construimos el polinomio, lo guardamos en la variable $\\texttt{pol}$ y lo mostramos, luego de hacer simplificaciones con la función $\\texttt{simplify}$ de SymPy:"
   ]
  },
  {
   "cell_type": "code",
   "execution_count": 5,
   "metadata": {},
   "outputs": [
    {
     "data": {
      "text/latex": [
       "$$ p_{2}(x) = \\left(x - 1\\right) \\left(3.55237980263124 x - 7.26890187803524\\right)$$"
      ],
      "text/plain": [
       "<IPython.core.display.Latex object>"
      ]
     },
     "metadata": {},
     "output_type": "display_data"
    }
   ],
   "source": [
    "pol = lagrangePolynomial(xs, ys, 2)\n",
    "display(Latex('$$ p_{2}(x) = '+ latex(simplify(pol.evalf())) + '$$'))"
   ]
  },
  {
   "cell_type": "markdown",
   "metadata": {},
   "source": [
    "Si deseamos evaluar algún punto en este polinomio, por ejemplo $p_{2}(1.6)$, escribimos"
   ]
  },
  {
   "cell_type": "code",
   "execution_count": 6,
   "metadata": {},
   "outputs": [
    {
     "data": {
      "image/png": "[encoded data removed]",
      "text/latex": [
       "$$-0.951056516295154$$"
      ],
      "text/plain": [
       "-0.951056516295154"
      ]
     },
     "execution_count": 6,
     "metadata": {},
     "output_type": "execute_result"
    }
   ],
   "source": [
    "pol.subs(x, 1.6).evalf()"
   ]
  },
  {
   "cell_type": "markdown",
   "metadata": {},
   "source": [
    "Notemos que "
   ]
  },
  {
   "cell_type": "code",
   "execution_count": 7,
   "metadata": {},
   "outputs": [
    {
     "data": {
      "image/png": "[encoded data removed]",
      "text/latex": [
       "$$-0.951056516295154$$"
      ],
      "text/plain": [
       "-0.951056516295154"
      ]
     },
     "execution_count": 7,
     "metadata": {},
     "output_type": "execute_result"
    }
   ],
   "source": [
    "f(1.6).evalf()"
   ]
  },
  {
   "cell_type": "markdown",
   "metadata": {},
   "source": [
    "Debe notarse que el polinomio de interpolación difiere de la función que aproxima, salvo en los nodos, donde es (teóricamente) igual a la función.\n",
    "\n",
    "Ahora graficamos, usando las herramientas que ofrecen la librerías $\\texttt{matplotlib}$ y $\\texttt{numpy}$:"
   ]
  },
  {
   "cell_type": "code",
   "execution_count": 8,
   "metadata": {},
   "outputs": [
    {
     "data": {
      "image/png": "[encoded data removed]",
      "text/plain": [
       "<Figure size 720x720 with 1 Axes>"
      ]
     },
     "metadata": {
      "needs_background": "light"
     },
     "output_type": "display_data"
    }
   ],
   "source": [
    "fig, ax = plt.subplots(figsize=(10, 10));\n",
    "\n",
    "lambdaf = lambdify(x, pol)\n",
    "\n",
    "xv = np.linspace(0, 2, 50);\n",
    "ax.plot(xv, lambdaf(xv), color='green');\n",
    "ax.plot(xv, np.sin(np.pi*xv), color = 'red')\n",
    "ax.scatter(xs, ys, color='blue', marker='o');\n",
    "plt.show(); "
   ]
  },
  {
   "cell_type": "markdown",
   "metadata": {},
   "source": [
    "En rojo se muestra la función $\\sin(\\pi x)$ y en verde el polinomio cuadrático de interpolación. En azul los nodos. Queda de ejercicio para el lector producir el polinomio de grado $3$ y escribir su fórmula agregando el nodo $x_{3} = 2.0$. \n",
    "\n",
    "Para los problemas de interpolación no es necesario que nos den una función a interpolar: podrían darnos solo una nube de puntos a través de la cual debe pasar el polinomio. Por ejemplo, si se tienen datos de un censo, podría producirse un polinomio de interpolación para estimar los datos en medio de los valores conocidos. Este caso se desarrolló en discusión con el ejercicio enunciado en la primera página del capítulo de interpolación de **[2]**."
   ]
  },
  {
   "cell_type": "markdown",
   "metadata": {},
   "source": [
    "**Teorema.** La solución al problema de interpolación enunciado arriba es única.\n",
    "\n",
    "*Demostración*. Supongamos que existe otro polinomio $q_{n} \\in \\mathcal{P}_{n}$ que satisface la propiedad de interpolación. Ahora consideremos el polinomio $p_{n} - q_{n}$. Podemos hacer las siguientes observaciones:\n",
    "\n",
    "1. $p_{n} - q_{n}$ es un polinomio de grado menor o igual a $n$, es decir, está en $\\mathcal{P}_{n}$.\n",
    "2. Al evaluar los nodos en este polinomio, obtenemos:\n",
    "\n",
    "$$ p_{n}(x_{0}) - q_{n}(x_{0}) = y_{0} - y_{0} = 0 $$\n",
    "$$ p_{n}(x_{1}) - q_{n}(x_{1}) = y_{1} - y_{1} = 0 $$\n",
    "$$ \\vdots $$\n",
    "$$ p_{n}(x_{n}) - q_{n}(x_{n}) = y_{n} - y_{n} = 0 $$\n",
    "\n",
    "es decir, $p_{n} - q_{n}$ tiene $n + 1$ raíces. Un polinomio en $\\mathcal{P}_{n}$ tiene exactamente $n$ o menos raíces en $\\mathbb{R}$, al menos que sea idéntico al polinomio $0$. Puesto que nuestro polinomio $p_{n} - q_{n}$ tiene $n+1$ raíces, concluimos que \n",
    "\n",
    "$$ p_{n} - q_{n} = 0 $$\n",
    "\n",
    "de lo que se sigue que $p_{n} = q_{n}$. Por tanto, concluimos que existe un único polinomio de interpolación de grado menor o igual a $n$. $\\square$"
   ]
  },
  {
   "cell_type": "markdown",
   "metadata": {},
   "source": [
    "## Referencias\n",
    "\n",
    "**[1]** Süli, Endre & Mayers, David (2003). *An Introduction to Numerical Analysis*. Cambridge\n",
    "University Press.\n",
    "\n",
    "**[2]** El buen Burden."
   ]
  }
 ],
 "metadata": {
  "kernelspec": {
   "display_name": "Python 3",
   "language": "python",
   "name": "python3"
  },
  "language_info": {
   "codemirror_mode": {
    "name": "ipython",
    "version": 3
   },
   "file_extension": ".py",
   "mimetype": "text/x-python",
   "name": "python",
   "nbconvert_exporter": "python",
   "pygments_lexer": "ipython3",
   "version": "3.7.3"
  }
 },
 "nbformat": 4,
 "nbformat_minor": 2
}
